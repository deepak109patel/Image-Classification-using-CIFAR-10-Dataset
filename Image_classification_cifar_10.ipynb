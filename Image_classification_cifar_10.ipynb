{
  "nbformat": 4,
  "nbformat_minor": 0,
  "metadata": {
    "colab": {
      "provenance": [],
      "gpuType": "T4"
    },
    "kernelspec": {
      "name": "python3",
      "display_name": "Python 3"
    },
    "language_info": {
      "name": "python"
    },
    "accelerator": "GPU"
  },
  "cells": [
    {
      "cell_type": "code",
      "execution_count": 1,
      "metadata": {
        "id": "bKlgbFI4RnSX"
      },
      "outputs": [],
      "source": [
        "import tensorflow as tf\n",
        "from tensorflow.keras import layers, models, datasets\n",
        "import matplotlib.pyplot as plt\n",
        "import numpy as np"
      ]
    },
    {
      "cell_type": "code",
      "source": [
        "(X_train, y_train), (X_test, y_test) = datasets.cifar10.load_data()"
      ],
      "metadata": {
        "id": "XVNOkdgMUsdd",
        "colab": {
          "base_uri": "https://localhost:8080/"
        },
        "outputId": "39f84655-f7fd-485a-edec-0a63064282c8"
      },
      "execution_count": 2,
      "outputs": [
        {
          "output_type": "stream",
          "name": "stdout",
          "text": [
            "Downloading data from https://www.cs.toronto.edu/~kriz/cifar-10-python.tar.gz\n",
            "\u001b[1m170498071/170498071\u001b[0m \u001b[32m━━━━━━━━━━━━━━━━━━━━\u001b[0m\u001b[37m\u001b[0m \u001b[1m8s\u001b[0m 0us/step\n"
          ]
        }
      ]
    },
    {
      "cell_type": "code",
      "source": [
        "print(\"Shape of Training Set\", X_train.shape)\n",
        "print(\"Shape of Test Set\", X_test.shape)"
      ],
      "metadata": {
        "colab": {
          "base_uri": "https://localhost:8080/"
        },
        "id": "xUVWRJRUXD1f",
        "outputId": "7b522173-6cb5-4777-a10b-7b240c1e3b02"
      },
      "execution_count": 3,
      "outputs": [
        {
          "output_type": "stream",
          "name": "stdout",
          "text": [
            "Shape of Training Set (50000, 32, 32, 3)\n",
            "Shape of Test Set (10000, 32, 32, 3)\n"
          ]
        }
      ]
    },
    {
      "cell_type": "code",
      "source": [
        "print(\"Shape of Training Labels \", y_train.shape)\n",
        "print(\"Shape of Test Labels \", y_test.shape)"
      ],
      "metadata": {
        "id": "f0nHEVDRXVGJ",
        "outputId": "e3048f9f-f141-4bd8-c410-1a7183a97824",
        "colab": {
          "base_uri": "https://localhost:8080/"
        }
      },
      "execution_count": 4,
      "outputs": [
        {
          "output_type": "stream",
          "name": "stdout",
          "text": [
            "Shape of Training Labels  (50000, 1)\n",
            "Shape of Test Labels  (10000, 1)\n"
          ]
        }
      ]
    },
    {
      "cell_type": "code",
      "source": [
        "y_train[500:505]"
      ],
      "metadata": {
        "id": "6VfBErjXXlCV",
        "outputId": "905b6bec-ccb4-414c-cd08-5a3a2295cdc5",
        "colab": {
          "base_uri": "https://localhost:8080/"
        }
      },
      "execution_count": 8,
      "outputs": [
        {
          "output_type": "execute_result",
          "data": {
            "text/plain": [
              "array([[5],\n",
              "       [8],\n",
              "       [2],\n",
              "       [8],\n",
              "       [0]], dtype=uint8)"
            ]
          },
          "metadata": {},
          "execution_count": 8
        }
      ]
    },
    {
      "cell_type": "code",
      "source": [
        "y_train = y_train.reshape(-1,)\n",
        "y_train[500:505]"
      ],
      "metadata": {
        "id": "0LqFa3UqX5UA",
        "outputId": "98c368b4-ff4f-4d69-ad1a-e1171f69c216",
        "colab": {
          "base_uri": "https://localhost:8080/"
        }
      },
      "execution_count": 10,
      "outputs": [
        {
          "output_type": "execute_result",
          "data": {
            "text/plain": [
              "array([5, 8, 2, 8, 0], dtype=uint8)"
            ]
          },
          "metadata": {},
          "execution_count": 10
        }
      ]
    },
    {
      "cell_type": "code",
      "source": [],
      "metadata": {
        "id": "gmA2iRuaYE4g"
      },
      "execution_count": null,
      "outputs": []
    }
  ]
}